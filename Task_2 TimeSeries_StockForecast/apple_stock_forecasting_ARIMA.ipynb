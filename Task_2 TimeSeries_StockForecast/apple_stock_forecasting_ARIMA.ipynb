{
 "cells": [
  {
   "cell_type": "markdown",
   "id": "42c90300",
   "metadata": {
    "id": "42c90300"
   },
   "source": [
    "#### Coding Samurai Internship Project - Task_5: Time Series Forecasting for Apple (AAPL) Stock Prices Using ARIMA\n",
    "##### This project uses **daily closing prices** of Apple Inc. (AAPL) from 2020 to 2025-05-05, extracted from Yahoo Finance. The dataset is applied to explore **time series forecasting model** **ARIMA**, with the goals of predicting future stock prices. Workflow Demonstrated;\n",
    "- ###### **Data Acquisition**\n",
    "- ###### **Data Information**\n",
    "- ###### **Data Exploration**\n",
    "- ###### **Data Preparation**\n",
    "- ###### **Modeling**\n",
    "- ###### **Prediction**  \n",
    "- ###### **Evaluation**\n",
    "- ###### **Future Prediction**\n",
    "- ###### **Insights**"
   ]
  },
  {
   "cell_type": "code",
   "execution_count": 53,
   "id": "a8fc3f0a",
   "metadata": {
    "executionInfo": {
     "elapsed": 42,
     "status": "ok",
     "timestamp": 1757495623457,
     "user": {
      "displayName": "Richard Jetevu",
      "userId": "03788574732977489479"
     },
     "user_tz": -60
    },
    "id": "a8fc3f0a"
   },
   "outputs": [],
   "source": [
    "# Importing the required libraries\n",
    "import yfinance as yf            # to fetch stock data\n",
    "import pandas as pd              # for data handling\n",
    "import numpy as np               # for numerical operations\n",
    "import matplotlib.pyplot as plt  # for visualization"
   ]
  },
  {
   "cell_type": "markdown",
   "id": "9a44596b",
   "metadata": {
    "id": "9a44596b"
   },
   "source": [
    "##### Data Acquisition from yfinace"
   ]
  },
  {
   "cell_type": "code",
   "execution_count": 54,
   "id": "3da3cc70",
   "metadata": {
    "executionInfo": {
     "elapsed": 17,
     "status": "ok",
     "timestamp": 1757495623484,
     "user": {
      "displayName": "Richard Jetevu",
      "userId": "03788574732977489479"
     },
     "user_tz": -60
    },
    "id": "3da3cc70"
   },
   "outputs": [],
   "source": [
    "# Downloading Apple stock data for the last 5 years\n",
    "ticker = yf.Ticker(\"AAPL\")\n",
    "apple_data = ticker.history(start=\"2020-05-05\", end=\"2025-05-05\")\n"
   ]
  },
  {
   "cell_type": "markdown",
   "id": "21c0ff13",
   "metadata": {
    "id": "21c0ff13"
   },
   "source": [
    "###### Data Information"
   ]
  },
  {
   "cell_type": "code",
   "execution_count": 56,
   "id": "b6e32f56",
   "metadata": {
    "colab": {
     "base_uri": "https://localhost:8080/",
     "height": 341
    },
    "executionInfo": {
     "elapsed": 131,
     "status": "ok",
     "timestamp": 1757495623620,
     "user": {
      "displayName": "Richard Jetevu",
      "userId": "03788574732977489479"
     },
     "user_tz": -60
    },
    "id": "b6e32f56",
    "outputId": "3732d04f-aa0f-4e75-ee60-7de3d09fa9da"
   },
   "outputs": [
    {
     "data": {
      "application/vnd.google.colaboratory.intrinsic+json": {
       "summary": "{\n  \"name\": \"apple_data\",\n  \"rows\": 1256,\n  \"fields\": [\n    {\n      \"column\": \"Date\",\n      \"properties\": {\n        \"dtype\": \"date\",\n        \"min\": \"2020-05-05 00:00:00-04:00\",\n        \"max\": \"2025-05-02 00:00:00-04:00\",\n        \"num_unique_values\": 1256,\n        \"samples\": [\n          \"2022-01-25 00:00:00-05:00\",\n          \"2020-09-28 00:00:00-04:00\",\n          \"2020-07-17 00:00:00-04:00\"\n        ],\n        \"semantic_type\": \"\",\n        \"description\": \"\"\n      }\n    },\n    {\n      \"column\": \"Open\",\n      \"properties\": {\n        \"dtype\": \"number\",\n        \"std\": 39.334705479335206,\n        \"min\": 71.43003164134032,\n        \"max\": 257.27667867815336,\n        \"num_unique_values\": 1256,\n        \"samples\": [\n          155.86443270388338,\n          111.8722854078883,\n          94.17167220899177\n        ],\n        \"semantic_type\": \"\",\n        \"description\": \"\"\n      }\n    },\n    {\n      \"column\": \"High\",\n      \"properties\": {\n        \"dtype\": \"number\",\n        \"std\": 39.63183520599563,\n        \"min\": 72.868025831844,\n        \"max\": 259.1799258751944,\n        \"num_unique_values\": 1256,\n        \"samples\": [\n          159.5703540851256,\n          112.17382557575709,\n          94.32702308898628\n        ],\n        \"semantic_type\": \"\",\n        \"description\": \"\"\n      }\n    },\n    {\n      \"column\": \"Low\",\n      \"properties\": {\n        \"dtype\": \"number\",\n        \"std\": 39.10971370470891,\n        \"min\": 71.28477828502723,\n        \"max\": 256.7186620602343,\n        \"num_unique_values\": 1256,\n        \"samples\": [\n          153.94285159644792,\n          109.70312127108637,\n          93.05748097078398\n        ],\n        \"semantic_type\": \"\",\n        \"description\": \"\"\n      }\n    },\n    {\n      \"column\": \"Close\",\n      \"properties\": {\n        \"dtype\": \"number\",\n        \"std\": 39.41979312926222,\n        \"min\": 72.03524780273438,\n        \"max\": 258.1037292480469,\n        \"num_unique_values\": 1241,\n        \"samples\": [\n          184.0319061279297,\n          109.74203491210938,\n          128.2854766845703\n        ],\n        \"semantic_type\": \"\",\n        \"description\": \"\"\n      }\n    },\n    {\n      \"column\": \"Volume\",\n      \"properties\": {\n        \"dtype\": \"number\",\n        \"std\": 42339305,\n        \"min\": 23234700,\n        \"max\": 374336800,\n        \"num_unique_values\": 1254,\n        \"samples\": [\n          101010600,\n          137672400,\n          92186800\n        ],\n        \"semantic_type\": \"\",\n        \"description\": \"\"\n      }\n    },\n    {\n      \"column\": \"Dividends\",\n      \"properties\": {\n        \"dtype\": \"number\",\n        \"std\": 0.028745331089257746,\n        \"min\": 0.0,\n        \"max\": 0.25,\n        \"num_unique_values\": 6,\n        \"samples\": [\n          0.0,\n          0.205,\n          0.25\n        ],\n        \"semantic_type\": \"\",\n        \"description\": \"\"\n      }\n    },\n    {\n      \"column\": \"Stock Splits\",\n      \"properties\": {\n        \"dtype\": \"number\",\n        \"std\": 0.11286652959662286,\n        \"min\": 0.0,\n        \"max\": 4.0,\n        \"num_unique_values\": 2,\n        \"samples\": [\n          4.0,\n          0.0\n        ],\n        \"semantic_type\": \"\",\n        \"description\": \"\"\n      }\n    }\n  ]\n}",
       "type": "dataframe",
       "variable_name": "apple_data"
      },
      "text/html": [
       "\n",
       "  <div id=\"df-3c6c900d-aa8b-4696-99fa-b16e9c8aefcb\" class=\"colab-df-container\">\n",
       "    <div>\n",
       "<style scoped>\n",
       "    .dataframe tbody tr th:only-of-type {\n",
       "        vertical-align: middle;\n",
       "    }\n",
       "\n",
       "    .dataframe tbody tr th {\n",
       "        vertical-align: top;\n",
       "    }\n",
       "\n",
       "    .dataframe thead th {\n",
       "        text-align: right;\n",
       "    }\n",
       "</style>\n",
       "<table border=\"1\" class=\"dataframe\">\n",
       "  <thead>\n",
       "    <tr style=\"text-align: right;\">\n",
       "      <th></th>\n",
       "      <th>Open</th>\n",
       "      <th>High</th>\n",
       "      <th>Low</th>\n",
       "      <th>Close</th>\n",
       "      <th>Volume</th>\n",
       "      <th>Dividends</th>\n",
       "      <th>Stock Splits</th>\n",
       "    </tr>\n",
       "    <tr>\n",
       "      <th>Date</th>\n",
       "      <th></th>\n",
       "      <th></th>\n",
       "      <th></th>\n",
       "      <th></th>\n",
       "      <th></th>\n",
       "      <th></th>\n",
       "      <th></th>\n",
       "    </tr>\n",
       "  </thead>\n",
       "  <tbody>\n",
       "    <tr>\n",
       "      <th>2020-05-05 00:00:00-04:00</th>\n",
       "      <td>71.430032</td>\n",
       "      <td>72.868026</td>\n",
       "      <td>71.284778</td>\n",
       "      <td>72.035248</td>\n",
       "      <td>147751200</td>\n",
       "      <td>0.000</td>\n",
       "      <td>0.0</td>\n",
       "    </tr>\n",
       "    <tr>\n",
       "      <th>2020-05-06 00:00:00-04:00</th>\n",
       "      <td>72.737292</td>\n",
       "      <td>73.410292</td>\n",
       "      <td>72.352375</td>\n",
       "      <td>72.778450</td>\n",
       "      <td>142333600</td>\n",
       "      <td>0.000</td>\n",
       "      <td>0.0</td>\n",
       "    </tr>\n",
       "    <tr>\n",
       "      <th>2020-05-07 00:00:00-04:00</th>\n",
       "      <td>73.405436</td>\n",
       "      <td>73.877508</td>\n",
       "      <td>73.102828</td>\n",
       "      <td>73.531319</td>\n",
       "      <td>115215200</td>\n",
       "      <td>0.000</td>\n",
       "      <td>0.0</td>\n",
       "    </tr>\n",
       "    <tr>\n",
       "      <th>2020-05-08 00:00:00-04:00</th>\n",
       "      <td>74.191594</td>\n",
       "      <td>75.334905</td>\n",
       "      <td>73.863891</td>\n",
       "      <td>75.281502</td>\n",
       "      <td>133838400</td>\n",
       "      <td>0.205</td>\n",
       "      <td>0.0</td>\n",
       "    </tr>\n",
       "    <tr>\n",
       "      <th>2020-05-11 00:00:00-04:00</th>\n",
       "      <td>74.788741</td>\n",
       "      <td>76.961275</td>\n",
       "      <td>74.579979</td>\n",
       "      <td>76.466087</td>\n",
       "      <td>145946400</td>\n",
       "      <td>0.000</td>\n",
       "      <td>0.0</td>\n",
       "    </tr>\n",
       "  </tbody>\n",
       "</table>\n",
       "</div>\n",
       "    <div class=\"colab-df-buttons\">\n",
       "\n",
       "  <div class=\"colab-df-container\">\n",
       "    <button class=\"colab-df-convert\" onclick=\"convertToInteractive('df-3c6c900d-aa8b-4696-99fa-b16e9c8aefcb')\"\n",
       "            title=\"Convert this dataframe to an interactive table.\"\n",
       "            style=\"display:none;\">\n",
       "\n",
       "  <svg xmlns=\"http://www.w3.org/2000/svg\" height=\"24px\" viewBox=\"0 -960 960 960\">\n",
       "    <path d=\"M120-120v-720h720v720H120Zm60-500h600v-160H180v160Zm220 220h160v-160H400v160Zm0 220h160v-160H400v160ZM180-400h160v-160H180v160Zm440 0h160v-160H620v160ZM180-180h160v-160H180v160Zm440 0h160v-160H620v160Z\"/>\n",
       "  </svg>\n",
       "    </button>\n",
       "\n",
       "  <style>\n",
       "    .colab-df-container {\n",
       "      display:flex;\n",
       "      gap: 12px;\n",
       "    }\n",
       "\n",
       "    .colab-df-convert {\n",
       "      background-color: #E8F0FE;\n",
       "      border: none;\n",
       "      border-radius: 50%;\n",
       "      cursor: pointer;\n",
       "      display: none;\n",
       "      fill: #1967D2;\n",
       "      height: 32px;\n",
       "      padding: 0 0 0 0;\n",
       "      width: 32px;\n",
       "    }\n",
       "\n",
       "    .colab-df-convert:hover {\n",
       "      background-color: #E2EBFA;\n",
       "      box-shadow: 0px 1px 2px rgba(60, 64, 67, 0.3), 0px 1px 3px 1px rgba(60, 64, 67, 0.15);\n",
       "      fill: #174EA6;\n",
       "    }\n",
       "\n",
       "    .colab-df-buttons div {\n",
       "      margin-bottom: 4px;\n",
       "    }\n",
       "\n",
       "    [theme=dark] .colab-df-convert {\n",
       "      background-color: #3B4455;\n",
       "      fill: #D2E3FC;\n",
       "    }\n",
       "\n",
       "    [theme=dark] .colab-df-convert:hover {\n",
       "      background-color: #434B5C;\n",
       "      box-shadow: 0px 1px 3px 1px rgba(0, 0, 0, 0.15);\n",
       "      filter: drop-shadow(0px 1px 2px rgba(0, 0, 0, 0.3));\n",
       "      fill: #FFFFFF;\n",
       "    }\n",
       "  </style>\n",
       "\n",
       "    <script>\n",
       "      const buttonEl =\n",
       "        document.querySelector('#df-3c6c900d-aa8b-4696-99fa-b16e9c8aefcb button.colab-df-convert');\n",
       "      buttonEl.style.display =\n",
       "        google.colab.kernel.accessAllowed ? 'block' : 'none';\n",
       "\n",
       "      async function convertToInteractive(key) {\n",
       "        const element = document.querySelector('#df-3c6c900d-aa8b-4696-99fa-b16e9c8aefcb');\n",
       "        const dataTable =\n",
       "          await google.colab.kernel.invokeFunction('convertToInteractive',\n",
       "                                                    [key], {});\n",
       "        if (!dataTable) return;\n",
       "\n",
       "        const docLinkHtml = 'Like what you see? Visit the ' +\n",
       "          '<a target=\"_blank\" href=https://colab.research.google.com/notebooks/data_table.ipynb>data table notebook</a>'\n",
       "          + ' to learn more about interactive tables.';\n",
       "        element.innerHTML = '';\n",
       "        dataTable['output_type'] = 'display_data';\n",
       "        await google.colab.output.renderOutput(dataTable, element);\n",
       "        const docLink = document.createElement('div');\n",
       "        docLink.innerHTML = docLinkHtml;\n",
       "        element.appendChild(docLink);\n",
       "      }\n",
       "    </script>\n",
       "  </div>\n",
       "\n",
       "\n",
       "    <div id=\"df-fea224e2-4757-4ada-862c-27b3c6957166\">\n",
       "      <button class=\"colab-df-quickchart\" onclick=\"quickchart('df-fea224e2-4757-4ada-862c-27b3c6957166')\"\n",
       "                title=\"Suggest charts\"\n",
       "                style=\"display:none;\">\n",
       "\n",
       "<svg xmlns=\"http://www.w3.org/2000/svg\" height=\"24px\"viewBox=\"0 0 24 24\"\n",
       "     width=\"24px\">\n",
       "    <g>\n",
       "        <path d=\"M19 3H5c-1.1 0-2 .9-2 2v14c0 1.1.9 2 2 2h14c1.1 0 2-.9 2-2V5c0-1.1-.9-2-2-2zM9 17H7v-7h2v7zm4 0h-2V7h2v10zm4 0h-2v-4h2v4z\"/>\n",
       "    </g>\n",
       "</svg>\n",
       "      </button>\n",
       "\n",
       "<style>\n",
       "  .colab-df-quickchart {\n",
       "      --bg-color: #E8F0FE;\n",
       "      --fill-color: #1967D2;\n",
       "      --hover-bg-color: #E2EBFA;\n",
       "      --hover-fill-color: #174EA6;\n",
       "      --disabled-fill-color: #AAA;\n",
       "      --disabled-bg-color: #DDD;\n",
       "  }\n",
       "\n",
       "  [theme=dark] .colab-df-quickchart {\n",
       "      --bg-color: #3B4455;\n",
       "      --fill-color: #D2E3FC;\n",
       "      --hover-bg-color: #434B5C;\n",
       "      --hover-fill-color: #FFFFFF;\n",
       "      --disabled-bg-color: #3B4455;\n",
       "      --disabled-fill-color: #666;\n",
       "  }\n",
       "\n",
       "  .colab-df-quickchart {\n",
       "    background-color: var(--bg-color);\n",
       "    border: none;\n",
       "    border-radius: 50%;\n",
       "    cursor: pointer;\n",
       "    display: none;\n",
       "    fill: var(--fill-color);\n",
       "    height: 32px;\n",
       "    padding: 0;\n",
       "    width: 32px;\n",
       "  }\n",
       "\n",
       "  .colab-df-quickchart:hover {\n",
       "    background-color: var(--hover-bg-color);\n",
       "    box-shadow: 0 1px 2px rgba(60, 64, 67, 0.3), 0 1px 3px 1px rgba(60, 64, 67, 0.15);\n",
       "    fill: var(--button-hover-fill-color);\n",
       "  }\n",
       "\n",
       "  .colab-df-quickchart-complete:disabled,\n",
       "  .colab-df-quickchart-complete:disabled:hover {\n",
       "    background-color: var(--disabled-bg-color);\n",
       "    fill: var(--disabled-fill-color);\n",
       "    box-shadow: none;\n",
       "  }\n",
       "\n",
       "  .colab-df-spinner {\n",
       "    border: 2px solid var(--fill-color);\n",
       "    border-color: transparent;\n",
       "    border-bottom-color: var(--fill-color);\n",
       "    animation:\n",
       "      spin 1s steps(1) infinite;\n",
       "  }\n",
       "\n",
       "  @keyframes spin {\n",
       "    0% {\n",
       "      border-color: transparent;\n",
       "      border-bottom-color: var(--fill-color);\n",
       "      border-left-color: var(--fill-color);\n",
       "    }\n",
       "    20% {\n",
       "      border-color: transparent;\n",
       "      border-left-color: var(--fill-color);\n",
       "      border-top-color: var(--fill-color);\n",
       "    }\n",
       "    30% {\n",
       "      border-color: transparent;\n",
       "      border-left-color: var(--fill-color);\n",
       "      border-top-color: var(--fill-color);\n",
       "      border-right-color: var(--fill-color);\n",
       "    }\n",
       "    40% {\n",
       "      border-color: transparent;\n",
       "      border-right-color: var(--fill-color);\n",
       "      border-top-color: var(--fill-color);\n",
       "    }\n",
       "    60% {\n",
       "      border-color: transparent;\n",
       "      border-right-color: var(--fill-color);\n",
       "    }\n",
       "    80% {\n",
       "      border-color: transparent;\n",
       "      border-right-color: var(--fill-color);\n",
       "      border-bottom-color: var(--fill-color);\n",
       "    }\n",
       "    90% {\n",
       "      border-color: transparent;\n",
       "      border-bottom-color: var(--fill-color);\n",
       "    }\n",
       "  }\n",
       "</style>\n",
       "\n",
       "      <script>\n",
       "        async function quickchart(key) {\n",
       "          const quickchartButtonEl =\n",
       "            document.querySelector('#' + key + ' button');\n",
       "          quickchartButtonEl.disabled = true;  // To prevent multiple clicks.\n",
       "          quickchartButtonEl.classList.add('colab-df-spinner');\n",
       "          try {\n",
       "            const charts = await google.colab.kernel.invokeFunction(\n",
       "                'suggestCharts', [key], {});\n",
       "          } catch (error) {\n",
       "            console.error('Error during call to suggestCharts:', error);\n",
       "          }\n",
       "          quickchartButtonEl.classList.remove('colab-df-spinner');\n",
       "          quickchartButtonEl.classList.add('colab-df-quickchart-complete');\n",
       "        }\n",
       "        (() => {\n",
       "          let quickchartButtonEl =\n",
       "            document.querySelector('#df-fea224e2-4757-4ada-862c-27b3c6957166 button');\n",
       "          quickchartButtonEl.style.display =\n",
       "            google.colab.kernel.accessAllowed ? 'block' : 'none';\n",
       "        })();\n",
       "      </script>\n",
       "    </div>\n",
       "\n",
       "    </div>\n",
       "  </div>\n"
      ],
      "text/plain": [
       "                                Open       High        Low      Close  \\\n",
       "Date                                                                    \n",
       "2020-05-05 00:00:00-04:00  71.430032  72.868026  71.284778  72.035248   \n",
       "2020-05-06 00:00:00-04:00  72.737292  73.410292  72.352375  72.778450   \n",
       "2020-05-07 00:00:00-04:00  73.405436  73.877508  73.102828  73.531319   \n",
       "2020-05-08 00:00:00-04:00  74.191594  75.334905  73.863891  75.281502   \n",
       "2020-05-11 00:00:00-04:00  74.788741  76.961275  74.579979  76.466087   \n",
       "\n",
       "                              Volume  Dividends  Stock Splits  \n",
       "Date                                                           \n",
       "2020-05-05 00:00:00-04:00  147751200      0.000           0.0  \n",
       "2020-05-06 00:00:00-04:00  142333600      0.000           0.0  \n",
       "2020-05-07 00:00:00-04:00  115215200      0.000           0.0  \n",
       "2020-05-08 00:00:00-04:00  133838400      0.205           0.0  \n",
       "2020-05-11 00:00:00-04:00  145946400      0.000           0.0  "
      ]
     },
     "execution_count": 56,
     "metadata": {},
     "output_type": "execute_result"
    }
   ],
   "source": [
    "# Showing the first 5 rows and datatypes\n",
    "apple_data.head()"
   ]
  },
  {
   "cell_type": "code",
   "execution_count": 57,
   "id": "e1a1f666",
   "metadata": {
    "colab": {
     "base_uri": "https://localhost:8080/"
    },
    "executionInfo": {
     "elapsed": 110,
     "status": "ok",
     "timestamp": 1757495623732,
     "user": {
      "displayName": "Richard Jetevu",
      "userId": "03788574732977489479"
     },
     "user_tz": -60
    },
    "id": "e1a1f666",
    "outputId": "1ddec090-33fc-48e7-e776-29f9cf4cb7d2"
   },
   "outputs": [
    {
     "name": "stdout",
     "output_type": "stream",
     "text": [
      "<class 'pandas.core.frame.DataFrame'>\n",
      "DatetimeIndex: 1256 entries, 2020-05-05 00:00:00-04:00 to 2025-05-02 00:00:00-04:00\n",
      "Data columns (total 7 columns):\n",
      " #   Column        Non-Null Count  Dtype  \n",
      "---  ------        --------------  -----  \n",
      " 0   Open          1256 non-null   float64\n",
      " 1   High          1256 non-null   float64\n",
      " 2   Low           1256 non-null   float64\n",
      " 3   Close         1256 non-null   float64\n",
      " 4   Volume        1256 non-null   int64  \n",
      " 5   Dividends     1256 non-null   float64\n",
      " 6   Stock Splits  1256 non-null   float64\n",
      "dtypes: float64(6), int64(1)\n",
      "memory usage: 78.5 KB\n",
      "None\n",
      "Open            0\n",
      "High            0\n",
      "Low             0\n",
      "Close           0\n",
      "Volume          0\n",
      "Dividends       0\n",
      "Stock Splits    0\n",
      "dtype: int64\n"
     ]
    }
   ],
   "source": [
    "# Data info and shape\n",
    "print(apple_data.info())\n",
    "\n",
    "# Checking for missing values\n",
    "print(apple_data.isnull().sum())\n"
   ]
  },
  {
   "cell_type": "markdown",
   "id": "6b421477",
   "metadata": {
    "id": "6b421477"
   },
   "source": [
    "###### Data Exploration (EDA)"
   ]
  },
  {
   "cell_type": "code",
   "execution_count": 58,
   "id": "7e2f03d1",
   "metadata": {
    "colab": {
     "base_uri": "https://localhost:8080/",
     "height": 300
    },
    "executionInfo": {
     "elapsed": 88,
     "status": "ok",
     "timestamp": 1757495623827,
     "user": {
      "displayName": "Richard Jetevu",
      "userId": "03788574732977489479"
     },
     "user_tz": -60
    },
    "id": "7e2f03d1",
    "outputId": "8f509983-4fc5-4869-e3c8-90c9837a1b4a"
   },
   "outputs": [
    {
     "data": {
      "application/vnd.google.colaboratory.intrinsic+json": {
       "summary": "{\n  \"name\": \"apple_data\",\n  \"rows\": 8,\n  \"fields\": [\n    {\n      \"column\": \"Open\",\n      \"properties\": {\n        \"dtype\": \"number\",\n        \"std\": 398.7959548942929,\n        \"min\": 39.334705479335206,\n        \"max\": 1256.0,\n        \"num_unique_values\": 8,\n        \"samples\": [\n          161.87540562849966,\n          159.3455996058332,\n          1256.0\n        ],\n        \"semantic_type\": \"\",\n        \"description\": \"\"\n      }\n    },\n    {\n      \"column\": \"High\",\n      \"properties\": {\n        \"dtype\": \"number\",\n        \"std\": 398.296728598714,\n        \"min\": 39.63183520599563,\n        \"max\": 1256.0,\n        \"num_unique_values\": 8,\n        \"samples\": [\n          163.70545912777473,\n          161.60436644015562,\n          1256.0\n        ],\n        \"semantic_type\": \"\",\n        \"description\": \"\"\n      }\n    },\n    {\n      \"column\": \"Low\",\n      \"properties\": {\n        \"dtype\": \"number\",\n        \"std\": 399.13093286559246,\n        \"min\": 39.10971370470891,\n        \"max\": 1256.0,\n        \"num_unique_values\": 8,\n        \"samples\": [\n          160.19128050257655,\n          157.13384847168743,\n          1256.0\n        ],\n        \"semantic_type\": \"\",\n        \"description\": \"\"\n      }\n    },\n    {\n      \"column\": \"Close\",\n      \"properties\": {\n        \"dtype\": \"number\",\n        \"std\": 398.69769588647176,\n        \"min\": 39.41979312926222,\n        \"max\": 1256.0,\n        \"num_unique_values\": 8,\n        \"samples\": [\n          162.04432919374696,\n          159.82706451416016,\n          1256.0\n        ],\n        \"semantic_type\": \"\",\n        \"description\": \"\"\n      }\n    },\n    {\n      \"column\": \"Volume\",\n      \"properties\": {\n        \"dtype\": \"number\",\n        \"std\": 117984094.95570073,\n        \"min\": 1256.0,\n        \"max\": 374336800.0,\n        \"num_unique_values\": 8,\n        \"samples\": [\n          82013167.75477707,\n          71413500.0,\n          1256.0\n        ],\n        \"semantic_type\": \"\",\n        \"description\": \"\"\n      }\n    },\n    {\n      \"column\": \"Dividends\",\n      \"properties\": {\n        \"dtype\": \"number\",\n        \"std\": 444.0488040001082,\n        \"min\": 0.0,\n        \"max\": 1256.0,\n        \"num_unique_values\": 5,\n        \"samples\": [\n          0.003646496815286624,\n          0.25,\n          0.028745331089257746\n        ],\n        \"semantic_type\": \"\",\n        \"description\": \"\"\n      }\n    },\n    {\n      \"column\": \"Stock Splits\",\n      \"properties\": {\n        \"dtype\": \"number\",\n        \"std\": 443.8573540039917,\n        \"min\": 0.0,\n        \"max\": 1256.0,\n        \"num_unique_values\": 5,\n        \"samples\": [\n          0.0031847133757961785,\n          4.0,\n          0.11286652959662286\n        ],\n        \"semantic_type\": \"\",\n        \"description\": \"\"\n      }\n    }\n  ]\n}",
       "type": "dataframe"
      },
      "text/html": [
       "\n",
       "  <div id=\"df-d91daf21-6612-4bc6-a8e9-a659d59b6241\" class=\"colab-df-container\">\n",
       "    <div>\n",
       "<style scoped>\n",
       "    .dataframe tbody tr th:only-of-type {\n",
       "        vertical-align: middle;\n",
       "    }\n",
       "\n",
       "    .dataframe tbody tr th {\n",
       "        vertical-align: top;\n",
       "    }\n",
       "\n",
       "    .dataframe thead th {\n",
       "        text-align: right;\n",
       "    }\n",
       "</style>\n",
       "<table border=\"1\" class=\"dataframe\">\n",
       "  <thead>\n",
       "    <tr style=\"text-align: right;\">\n",
       "      <th></th>\n",
       "      <th>Open</th>\n",
       "      <th>High</th>\n",
       "      <th>Low</th>\n",
       "      <th>Close</th>\n",
       "      <th>Volume</th>\n",
       "      <th>Dividends</th>\n",
       "      <th>Stock Splits</th>\n",
       "    </tr>\n",
       "  </thead>\n",
       "  <tbody>\n",
       "    <tr>\n",
       "      <th>count</th>\n",
       "      <td>1256.000000</td>\n",
       "      <td>1256.000000</td>\n",
       "      <td>1256.000000</td>\n",
       "      <td>1256.000000</td>\n",
       "      <td>1.256000e+03</td>\n",
       "      <td>1256.000000</td>\n",
       "      <td>1256.000000</td>\n",
       "    </tr>\n",
       "    <tr>\n",
       "      <th>mean</th>\n",
       "      <td>161.875406</td>\n",
       "      <td>163.705459</td>\n",
       "      <td>160.191281</td>\n",
       "      <td>162.044329</td>\n",
       "      <td>8.201317e+07</td>\n",
       "      <td>0.003646</td>\n",
       "      <td>0.003185</td>\n",
       "    </tr>\n",
       "    <tr>\n",
       "      <th>std</th>\n",
       "      <td>39.334705</td>\n",
       "      <td>39.631835</td>\n",
       "      <td>39.109714</td>\n",
       "      <td>39.419793</td>\n",
       "      <td>4.233931e+07</td>\n",
       "      <td>0.028745</td>\n",
       "      <td>0.112867</td>\n",
       "    </tr>\n",
       "    <tr>\n",
       "      <th>min</th>\n",
       "      <td>71.430032</td>\n",
       "      <td>72.868026</td>\n",
       "      <td>71.284778</td>\n",
       "      <td>72.035248</td>\n",
       "      <td>2.323470e+07</td>\n",
       "      <td>0.000000</td>\n",
       "      <td>0.000000</td>\n",
       "    </tr>\n",
       "    <tr>\n",
       "      <th>25%</th>\n",
       "      <td>133.495549</td>\n",
       "      <td>135.659540</td>\n",
       "      <td>132.175904</td>\n",
       "      <td>133.597931</td>\n",
       "      <td>5.300062e+07</td>\n",
       "      <td>0.000000</td>\n",
       "      <td>0.000000</td>\n",
       "    </tr>\n",
       "    <tr>\n",
       "      <th>50%</th>\n",
       "      <td>159.345600</td>\n",
       "      <td>161.604366</td>\n",
       "      <td>157.133848</td>\n",
       "      <td>159.827065</td>\n",
       "      <td>7.141350e+07</td>\n",
       "      <td>0.000000</td>\n",
       "      <td>0.000000</td>\n",
       "    </tr>\n",
       "    <tr>\n",
       "      <th>75%</th>\n",
       "      <td>185.896584</td>\n",
       "      <td>187.381613</td>\n",
       "      <td>184.272381</td>\n",
       "      <td>185.989616</td>\n",
       "      <td>9.771435e+07</td>\n",
       "      <td>0.000000</td>\n",
       "      <td>0.000000</td>\n",
       "    </tr>\n",
       "    <tr>\n",
       "      <th>max</th>\n",
       "      <td>257.276679</td>\n",
       "      <td>259.179926</td>\n",
       "      <td>256.718662</td>\n",
       "      <td>258.103729</td>\n",
       "      <td>3.743368e+08</td>\n",
       "      <td>0.250000</td>\n",
       "      <td>4.000000</td>\n",
       "    </tr>\n",
       "  </tbody>\n",
       "</table>\n",
       "</div>\n",
       "    <div class=\"colab-df-buttons\">\n",
       "\n",
       "  <div class=\"colab-df-container\">\n",
       "    <button class=\"colab-df-convert\" onclick=\"convertToInteractive('df-d91daf21-6612-4bc6-a8e9-a659d59b6241')\"\n",
       "            title=\"Convert this dataframe to an interactive table.\"\n",
       "            style=\"display:none;\">\n",
       "\n",
       "  <svg xmlns=\"http://www.w3.org/2000/svg\" height=\"24px\" viewBox=\"0 -960 960 960\">\n",
       "    <path d=\"M120-120v-720h720v720H120Zm60-500h600v-160H180v160Zm220 220h160v-160H400v160Zm0 220h160v-160H400v160ZM180-400h160v-160H180v160Zm440 0h160v-160H620v160ZM180-180h160v-160H180v160Zm440 0h160v-160H620v160Z\"/>\n",
       "  </svg>\n",
       "    </button>\n",
       "\n",
       "  <style>\n",
       "    .colab-df-container {\n",
       "      display:flex;\n",
       "      gap: 12px;\n",
       "    }\n",
       "\n",
       "    .colab-df-convert {\n",
       "      background-color: #E8F0FE;\n",
       "      border: none;\n",
       "      border-radius: 50%;\n",
       "      cursor: pointer;\n",
       "      display: none;\n",
       "      fill: #1967D2;\n",
       "      height: 32px;\n",
       "      padding: 0 0 0 0;\n",
       "      width: 32px;\n",
       "    }\n",
       "\n",
       "    .colab-df-convert:hover {\n",
       "      background-color: #E2EBFA;\n",
       "      box-shadow: 0px 1px 2px rgba(60, 64, 67, 0.3), 0px 1px 3px 1px rgba(60, 64, 67, 0.15);\n",
       "      fill: #174EA6;\n",
       "    }\n",
       "\n",
       "    .colab-df-buttons div {\n",
       "      margin-bottom: 4px;\n",
       "    }\n",
       "\n",
       "    [theme=dark] .colab-df-convert {\n",
       "      background-color: #3B4455;\n",
       "      fill: #D2E3FC;\n",
       "    }\n",
       "\n",
       "    [theme=dark] .colab-df-convert:hover {\n",
       "      background-color: #434B5C;\n",
       "      box-shadow: 0px 1px 3px 1px rgba(0, 0, 0, 0.15);\n",
       "      filter: drop-shadow(0px 1px 2px rgba(0, 0, 0, 0.3));\n",
       "      fill: #FFFFFF;\n",
       "    }\n",
       "  </style>\n",
       "\n",
       "    <script>\n",
       "      const buttonEl =\n",
       "        document.querySelector('#df-d91daf21-6612-4bc6-a8e9-a659d59b6241 button.colab-df-convert');\n",
       "      buttonEl.style.display =\n",
       "        google.colab.kernel.accessAllowed ? 'block' : 'none';\n",
       "\n",
       "      async function convertToInteractive(key) {\n",
       "        const element = document.querySelector('#df-d91daf21-6612-4bc6-a8e9-a659d59b6241');\n",
       "        const dataTable =\n",
       "          await google.colab.kernel.invokeFunction('convertToInteractive',\n",
       "                                                    [key], {});\n",
       "        if (!dataTable) return;\n",
       "\n",
       "        const docLinkHtml = 'Like what you see? Visit the ' +\n",
       "          '<a target=\"_blank\" href=https://colab.research.google.com/notebooks/data_table.ipynb>data table notebook</a>'\n",
       "          + ' to learn more about interactive tables.';\n",
       "        element.innerHTML = '';\n",
       "        dataTable['output_type'] = 'display_data';\n",
       "        await google.colab.output.renderOutput(dataTable, element);\n",
       "        const docLink = document.createElement('div');\n",
       "        docLink.innerHTML = docLinkHtml;\n",
       "        element.appendChild(docLink);\n",
       "      }\n",
       "    </script>\n",
       "  </div>\n",
       "\n",
       "\n",
       "    <div id=\"df-e94c88d0-7ef3-4278-92a6-d8ba1f0c92a6\">\n",
       "      <button class=\"colab-df-quickchart\" onclick=\"quickchart('df-e94c88d0-7ef3-4278-92a6-d8ba1f0c92a6')\"\n",
       "                title=\"Suggest charts\"\n",
       "                style=\"display:none;\">\n",
       "\n",
       "<svg xmlns=\"http://www.w3.org/2000/svg\" height=\"24px\"viewBox=\"0 0 24 24\"\n",
       "     width=\"24px\">\n",
       "    <g>\n",
       "        <path d=\"M19 3H5c-1.1 0-2 .9-2 2v14c0 1.1.9 2 2 2h14c1.1 0 2-.9 2-2V5c0-1.1-.9-2-2-2zM9 17H7v-7h2v7zm4 0h-2V7h2v10zm4 0h-2v-4h2v4z\"/>\n",
       "    </g>\n",
       "</svg>\n",
       "      </button>\n",
       "\n",
       "<style>\n",
       "  .colab-df-quickchart {\n",
       "      --bg-color: #E8F0FE;\n",
       "      --fill-color: #1967D2;\n",
       "      --hover-bg-color: #E2EBFA;\n",
       "      --hover-fill-color: #174EA6;\n",
       "      --disabled-fill-color: #AAA;\n",
       "      --disabled-bg-color: #DDD;\n",
       "  }\n",
       "\n",
       "  [theme=dark] .colab-df-quickchart {\n",
       "      --bg-color: #3B4455;\n",
       "      --fill-color: #D2E3FC;\n",
       "      --hover-bg-color: #434B5C;\n",
       "      --hover-fill-color: #FFFFFF;\n",
       "      --disabled-bg-color: #3B4455;\n",
       "      --disabled-fill-color: #666;\n",
       "  }\n",
       "\n",
       "  .colab-df-quickchart {\n",
       "    background-color: var(--bg-color);\n",
       "    border: none;\n",
       "    border-radius: 50%;\n",
       "    cursor: pointer;\n",
       "    display: none;\n",
       "    fill: var(--fill-color);\n",
       "    height: 32px;\n",
       "    padding: 0;\n",
       "    width: 32px;\n",
       "  }\n",
       "\n",
       "  .colab-df-quickchart:hover {\n",
       "    background-color: var(--hover-bg-color);\n",
       "    box-shadow: 0 1px 2px rgba(60, 64, 67, 0.3), 0 1px 3px 1px rgba(60, 64, 67, 0.15);\n",
       "    fill: var(--button-hover-fill-color);\n",
       "  }\n",
       "\n",
       "  .colab-df-quickchart-complete:disabled,\n",
       "  .colab-df-quickchart-complete:disabled:hover {\n",
       "    background-color: var(--disabled-bg-color);\n",
       "    fill: var(--disabled-fill-color);\n",
       "    box-shadow: none;\n",
       "  }\n",
       "\n",
       "  .colab-df-spinner {\n",
       "    border: 2px solid var(--fill-color);\n",
       "    border-color: transparent;\n",
       "    border-bottom-color: var(--fill-color);\n",
       "    animation:\n",
       "      spin 1s steps(1) infinite;\n",
       "  }\n",
       "\n",
       "  @keyframes spin {\n",
       "    0% {\n",
       "      border-color: transparent;\n",
       "      border-bottom-color: var(--fill-color);\n",
       "      border-left-color: var(--fill-color);\n",
       "    }\n",
       "    20% {\n",
       "      border-color: transparent;\n",
       "      border-left-color: var(--fill-color);\n",
       "      border-top-color: var(--fill-color);\n",
       "    }\n",
       "    30% {\n",
       "      border-color: transparent;\n",
       "      border-left-color: var(--fill-color);\n",
       "      border-top-color: var(--fill-color);\n",
       "      border-right-color: var(--fill-color);\n",
       "    }\n",
       "    40% {\n",
       "      border-color: transparent;\n",
       "      border-right-color: var(--fill-color);\n",
       "      border-top-color: var(--fill-color);\n",
       "    }\n",
       "    60% {\n",
       "      border-color: transparent;\n",
       "      border-right-color: var(--fill-color);\n",
       "    }\n",
       "    80% {\n",
       "      border-color: transparent;\n",
       "      border-right-color: var(--fill-color);\n",
       "      border-bottom-color: var(--fill-color);\n",
       "    }\n",
       "    90% {\n",
       "      border-color: transparent;\n",
       "      border-bottom-color: var(--fill-color);\n",
       "    }\n",
       "  }\n",
       "</style>\n",
       "\n",
       "      <script>\n",
       "        async function quickchart(key) {\n",
       "          const quickchartButtonEl =\n",
       "            document.querySelector('#' + key + ' button');\n",
       "          quickchartButtonEl.disabled = true;  // To prevent multiple clicks.\n",
       "          quickchartButtonEl.classList.add('colab-df-spinner');\n",
       "          try {\n",
       "            const charts = await google.colab.kernel.invokeFunction(\n",
       "                'suggestCharts', [key], {});\n",
       "          } catch (error) {\n",
       "            console.error('Error during call to suggestCharts:', error);\n",
       "          }\n",
       "          quickchartButtonEl.classList.remove('colab-df-spinner');\n",
       "          quickchartButtonEl.classList.add('colab-df-quickchart-complete');\n",
       "        }\n",
       "        (() => {\n",
       "          let quickchartButtonEl =\n",
       "            document.querySelector('#df-e94c88d0-7ef3-4278-92a6-d8ba1f0c92a6 button');\n",
       "          quickchartButtonEl.style.display =\n",
       "            google.colab.kernel.accessAllowed ? 'block' : 'none';\n",
       "        })();\n",
       "      </script>\n",
       "    </div>\n",
       "\n",
       "    </div>\n",
       "  </div>\n"
      ],
      "text/plain": [
       "              Open         High          Low        Close        Volume  \\\n",
       "count  1256.000000  1256.000000  1256.000000  1256.000000  1.256000e+03   \n",
       "mean    161.875406   163.705459   160.191281   162.044329  8.201317e+07   \n",
       "std      39.334705    39.631835    39.109714    39.419793  4.233931e+07   \n",
       "min      71.430032    72.868026    71.284778    72.035248  2.323470e+07   \n",
       "25%     133.495549   135.659540   132.175904   133.597931  5.300062e+07   \n",
       "50%     159.345600   161.604366   157.133848   159.827065  7.141350e+07   \n",
       "75%     185.896584   187.381613   184.272381   185.989616  9.771435e+07   \n",
       "max     257.276679   259.179926   256.718662   258.103729  3.743368e+08   \n",
       "\n",
       "         Dividends  Stock Splits  \n",
       "count  1256.000000   1256.000000  \n",
       "mean      0.003646      0.003185  \n",
       "std       0.028745      0.112867  \n",
       "min       0.000000      0.000000  \n",
       "25%       0.000000      0.000000  \n",
       "50%       0.000000      0.000000  \n",
       "75%       0.000000      0.000000  \n",
       "max       0.250000      4.000000  "
      ]
     },
     "execution_count": 58,
     "metadata": {},
     "output_type": "execute_result"
    }
   ],
   "source": [
    "# Summary Statistics\n",
    "apple_data.describe()"
   ]
  },
  {
   "cell_type": "code",
   "execution_count": 59,
   "id": "3ffac954",
   "metadata": {
    "colab": {
     "base_uri": "https://localhost:8080/",
     "height": 469
    },
    "executionInfo": {
     "elapsed": 358,
     "status": "ok",
     "timestamp": 1757495624179,
     "user": {
      "displayName": "Richard Jetevu",
      "userId": "03788574732977489479"
     },
     "user_tz": -60
    },
    "id": "3ffac954",
    "outputId": "d4d2b965-40db-44e1-e65c-88535d4d8c43"
   },
   "outputs": [
    {
     "data": {
      "image/png": "[encoded data removed]",
      "text/plain": [
       "<Figure size 1000x500 with 1 Axes>"
      ]
     },
     "metadata": {},
     "output_type": "display_data"
    }
   ],
   "source": [
    "# Visualization\n",
    "plt.figure(figsize=(10,5))\n",
    "plt.plot(apple_data['Close'], label=\"Closing Price\")\n",
    "plt.xlabel(\"Date\")\n",
    "plt.ylabel(\"Price (USD)\")\n",
    "plt.title(\"Apple Stock Closing Price Over Time\")\n",
    "plt.legend()\n",
    "plt.show()"
   ]
  },
  {
   "cell_type": "markdown",
   "id": "b5ae3e8e",
   "metadata": {
    "id": "b5ae3e8e"
   },
   "source": [
    "###### Stationarity Check"
   ]
  },
  {
   "cell_type": "code",
   "execution_count": 60,
   "id": "912b1420",
   "metadata": {
    "colab": {
     "base_uri": "https://localhost:8080/",
     "height": 461
    },
    "executionInfo": {
     "elapsed": 223,
     "status": "ok",
     "timestamp": 1757495624406,
     "user": {
      "displayName": "Richard Jetevu",
      "userId": "03788574732977489479"
     },
     "user_tz": -60
    },
    "id": "912b1420",
    "outputId": "c6a976d6-4a96-4cba-efa1-06ed1aa8c9bd"
   },
   "outputs": [
    {
     "data": {
      "image/png": "[encoded data removed]",
      "text/plain": [
       "<Figure size 1000x500 with 1 Axes>"
      ]
     },
     "metadata": {},
     "output_type": "display_data"
    }
   ],
   "source": [
    "# Visual Inspection of Stationarity\n",
    "# Rolling statistics (30-day window)\n",
    "rolling_mean = apple_data['Close'].rolling(window=30).mean()\n",
    "rolling_std = apple_data['Close'].rolling(window=30).std()\n",
    "\n",
    "plt.figure(figsize=(10,5))\n",
    "plt.plot(apple_data['Close'], color='blue', label=\"Closing Price\")\n",
    "plt.plot(rolling_mean, color='red', label=\"Rolling Mean (30 days)\")\n",
    "plt.plot(rolling_std, color='green', label=\"Rolling Std (30 days)\")\n",
    "plt.legend()\n",
    "plt.title(\"Apple Stock Closing Price with Rolling Mean & Std Dev\")\n",
    "plt.show()"
   ]
  },
  {
   "cell_type": "markdown",
   "id": "66df0e0a",
   "metadata": {
    "id": "66df0e0a"
   },
   "source": [
    "###### Interpretation: Mean is changing (trend upward), the series is non-stationary."
   ]
  },
  {
   "cell_type": "code",
   "execution_count": 61,
   "id": "4fdc218a",
   "metadata": {
    "colab": {
     "base_uri": "https://localhost:8080/"
    },
    "executionInfo": {
     "elapsed": 56,
     "status": "ok",
     "timestamp": 1757495624468,
     "user": {
      "displayName": "Richard Jetevu",
      "userId": "03788574732977489479"
     },
     "user_tz": -60
    },
    "id": "4fdc218a",
    "outputId": "5377fa00-7946-4e81-8c6c-fb009e3a85c2"
   },
   "outputs": [
    {
     "name": "stdout",
     "output_type": "stream",
     "text": [
      "ADF Statistic: -2.0984459236797366\n",
      "p-value: 0.24513996242303193\n",
      "Critical Values:\n",
      "   1%: -3.435571295403709\n",
      "   5%: -2.863845736356174\n",
      "   10%: -2.567997600196822\n"
     ]
    }
   ],
   "source": [
    "# Mathematical Test for Stationarity\n",
    "from statsmodels.tsa.stattools import adfuller\n",
    "\n",
    "# Runing the test on the closing price\n",
    "result = adfuller(apple_data['Close'])\n",
    "\n",
    "# Printing the results\n",
    "print(\"ADF Statistic:\", result[0])\n",
    "print(\"p-value:\", result[1])\n",
    "print(\"Critical Values:\")\n",
    "for key, value in result[4].items():\n",
    "    print(f\"   {key}: {value}\")"
   ]
  },
  {
   "cell_type": "markdown",
   "id": "e9667654",
   "metadata": {
    "id": "e9667654"
   },
   "source": [
    "###### **Interpretation:** The P-value is 0.24 which is > 0.05, suggests **Non-Stationarity**"
   ]
  },
  {
   "cell_type": "markdown",
   "id": "9cd1ca02",
   "metadata": {
    "id": "9cd1ca02"
   },
   "source": [
    "##### Data Preparation"
   ]
  },
  {
   "cell_type": "markdown",
   "id": "62107c22",
   "metadata": {
    "id": "62107c22"
   },
   "source": [
    "###### **Spliting the Data(80/20)**"
   ]
  },
  {
   "cell_type": "code",
   "execution_count": 62,
   "id": "c36f5926",
   "metadata": {
    "executionInfo": {
     "elapsed": 64,
     "status": "ok",
     "timestamp": 1757495624536,
     "user": {
      "displayName": "Richard Jetevu",
      "userId": "03788574732977489479"
     },
     "user_tz": -60
    },
    "id": "c36f5926"
   },
   "outputs": [],
   "source": [
    "# Splitting the data into training and testing sets\n",
    "train_size = int(len(apple_data['Close']) * 0.8)\n",
    "train = apple_data['Close'][:train_size]\n",
    "test = apple_data['Close'][train_size:]"
   ]
  },
  {
   "cell_type": "markdown",
   "id": "3aaf1d14",
   "metadata": {
    "id": "3aaf1d14"
   },
   "source": [
    "##### Modelling"
   ]
  },
  {
   "cell_type": "markdown",
   "id": "fee4d228",
   "metadata": {
    "id": "fee4d228"
   },
   "source": [
    "###### Finding the Best ARIMA Model (Manual AIC Comparison)"
   ]
  },
  {
   "cell_type": "code",
   "execution_count": 63,
   "id": "973d8537",
   "metadata": {
    "colab": {
     "base_uri": "https://localhost:8080/"
    },
    "executionInfo": {
     "elapsed": 75758,
     "status": "ok",
     "timestamp": 1757495700299,
     "user": {
      "displayName": "Richard Jetevu",
      "userId": "03788574732977489479"
     },
     "user_tz": -60
    },
    "id": "973d8537",
    "outputId": "feecfbcb-74da-47ab-b364-c9f2bba7668d"
   },
   "outputs": [
    {
     "name": "stdout",
     "output_type": "stream",
     "text": [
      "Best ARIMA order: (3, 2, 3)\n",
      "Best AIC: 6312.512469244677\n"
     ]
    }
   ],
   "source": [
    "import warnings\n",
    "import itertools\n",
    "import statsmodels.api as sm\n",
    "\n",
    "# Dropping any NAN\n",
    "y = apple_data['Close'].dropna()\n",
    "\n",
    "# Expanding parameter range\n",
    "p = d = q = range(0, 4)  # try 0,1,2,3\n",
    "\n",
    "# Generating all possible combinations of p, d, and q.\n",
    "pdq = list(itertools.product(p, d, q))\n",
    "\n",
    "# Suppressing warning messages from failed models\n",
    "warnings.filterwarnings(\"ignore\")\n",
    "\n",
    "best_aic = float(\"inf\")\n",
    "best_order = None\n",
    "best_model = None\n",
    "\n",
    "# Looping through all parameter combinations\n",
    "for order in pdq:\n",
    "    try:\n",
    "        model = sm.tsa.ARIMA(y, order=order)\n",
    "        results = model.fit()\n",
    "        if results.aic < best_aic:\n",
    "            best_aic = results.aic\n",
    "            best_order = order\n",
    "            best_model = results\n",
    "    except Exception as e:\n",
    "        continue  # skip models that fail\n",
    "\n",
    "# Displaying Results\n",
    "print(\"Best ARIMA order:\", best_order)\n",
    "print(\"Best AIC:\", best_aic)"
   ]
  },
  {
   "cell_type": "markdown",
   "id": "b38ea0a0",
   "metadata": {
    "id": "b38ea0a0"
   },
   "source": [
    "###### **Fitting the Model**"
   ]
  },
  {
   "cell_type": "code",
   "execution_count": 80,
   "id": "BftRfzmAxXRp",
   "metadata": {
    "colab": {
     "base_uri": "https://localhost:8080/",
     "height": 516
    },
    "executionInfo": {
     "elapsed": 4866,
     "status": "ok",
     "timestamp": 1757495921984,
     "user": {
      "displayName": "Richard Jetevu",
      "userId": "03788574732977489479"
     },
     "user_tz": -60
    },
    "id": "BftRfzmAxXRp",
    "outputId": "41287719-4e0a-479a-9950-f07ca920d31a"
   },
   "outputs": [
    {
     "data": {
      "text/html": [
       "<table class=\"simpletable\">\n",
       "<caption>SARIMAX Results</caption>\n",
       "<tr>\n",
       "  <th>Dep. Variable:</th>         <td>Close</td>      <th>  No. Observations:  </th>   <td>1256</td>   \n",
       "</tr>\n",
       "<tr>\n",
       "  <th>Model:</th>            <td>ARIMA(3, 3, 3)</td>  <th>  Log Likelihood     </th> <td>-3165.060</td>\n",
       "</tr>\n",
       "<tr>\n",
       "  <th>Date:</th>            <td>Wed, 10 Sep 2025</td> <th>  AIC                </th> <td>6344.121</td> \n",
       "</tr>\n",
       "<tr>\n",
       "  <th>Time:</th>                <td>09:18:43</td>     <th>  BIC                </th> <td>6380.054</td> \n",
       "</tr>\n",
       "<tr>\n",
       "  <th>Sample:</th>                  <td>0</td>        <th>  HQIC               </th> <td>6357.628</td> \n",
       "</tr>\n",
       "<tr>\n",
       "  <th></th>                      <td> - 1256</td>     <th>                     </th>     <td> </td>    \n",
       "</tr>\n",
       "<tr>\n",
       "  <th>Covariance Type:</th>        <td>opg</td>       <th>                     </th>     <td> </td>    \n",
       "</tr>\n",
       "</table>\n",
       "<table class=\"simpletable\">\n",
       "<tr>\n",
       "     <td></td>       <th>coef</th>     <th>std err</th>      <th>z</th>      <th>P>|z|</th>  <th>[0.025</th>    <th>0.975]</th>  \n",
       "</tr>\n",
       "<tr>\n",
       "  <th>ar.L1</th>  <td>   -0.9890</td> <td>    0.019</td> <td>  -50.853</td> <td> 0.000</td> <td>   -1.027</td> <td>   -0.951</td>\n",
       "</tr>\n",
       "<tr>\n",
       "  <th>ar.L2</th>  <td>    0.0315</td> <td>    0.030</td> <td>    1.044</td> <td> 0.296</td> <td>   -0.028</td> <td>    0.091</td>\n",
       "</tr>\n",
       "<tr>\n",
       "  <th>ar.L3</th>  <td>    0.0219</td> <td>    0.022</td> <td>    0.976</td> <td> 0.329</td> <td>   -0.022</td> <td>    0.066</td>\n",
       "</tr>\n",
       "<tr>\n",
       "  <th>ma.L1</th>  <td>   -0.9975</td> <td>    0.050</td> <td>  -19.828</td> <td> 0.000</td> <td>   -1.096</td> <td>   -0.899</td>\n",
       "</tr>\n",
       "<tr>\n",
       "  <th>ma.L2</th>  <td>   -0.9998</td> <td>    0.099</td> <td>  -10.055</td> <td> 0.000</td> <td>   -1.195</td> <td>   -0.805</td>\n",
       "</tr>\n",
       "<tr>\n",
       "  <th>ma.L3</th>  <td>    0.9974</td> <td>    0.050</td> <td>   20.015</td> <td> 0.000</td> <td>    0.900</td> <td>    1.095</td>\n",
       "</tr>\n",
       "<tr>\n",
       "  <th>sigma2</th> <td>    9.0006</td> <td>    0.437</td> <td>   20.598</td> <td> 0.000</td> <td>    8.144</td> <td>    9.857</td>\n",
       "</tr>\n",
       "</table>\n",
       "<table class=\"simpletable\">\n",
       "<tr>\n",
       "  <th>Ljung-Box (L1) (Q):</th>     <td>0.00</td> <th>  Jarque-Bera (JB):  </th> <td>3377.75</td>\n",
       "</tr>\n",
       "<tr>\n",
       "  <th>Prob(Q):</th>                <td>0.99</td> <th>  Prob(JB):          </th>  <td>0.00</td>  \n",
       "</tr>\n",
       "<tr>\n",
       "  <th>Heteroskedasticity (H):</th> <td>2.36</td> <th>  Skew:              </th>  <td>0.05</td>  \n",
       "</tr>\n",
       "<tr>\n",
       "  <th>Prob(H) (two-sided):</th>    <td>0.00</td> <th>  Kurtosis:          </th>  <td>11.04</td> \n",
       "</tr>\n",
       "</table><br/><br/>Warnings:<br/>[1] Covariance matrix calculated using the outer product of gradients (complex-step)."
      ],
      "text/latex": [
       "\\begin{center}\n",
       "\\begin{tabular}{lclc}\n",
       "\\toprule\n",
       "\\textbf{Dep. Variable:}          &      Close       & \\textbf{  No. Observations:  } &    1256     \\\\\n",
       "\\textbf{Model:}                  &  ARIMA(3, 3, 3)  & \\textbf{  Log Likelihood     } & -3165.060   \\\\\n",
       "\\textbf{Date:}                   & Wed, 10 Sep 2025 & \\textbf{  AIC                } &  6344.121   \\\\\n",
       "\\textbf{Time:}                   &     09:18:43     & \\textbf{  BIC                } &  6380.054   \\\\\n",
       "\\textbf{Sample:}                 &        0         & \\textbf{  HQIC               } &  6357.628   \\\\\n",
       "\\textbf{}                        &      - 1256      & \\textbf{                     } &             \\\\\n",
       "\\textbf{Covariance Type:}        &       opg        & \\textbf{                     } &             \\\\\n",
       "\\bottomrule\n",
       "\\end{tabular}\n",
       "\\begin{tabular}{lcccccc}\n",
       "                & \\textbf{coef} & \\textbf{std err} & \\textbf{z} & \\textbf{P$> |$z$|$} & \\textbf{[0.025} & \\textbf{0.975]}  \\\\\n",
       "\\midrule\n",
       "\\textbf{ar.L1}  &      -0.9890  &        0.019     &   -50.853  &         0.000        &       -1.027    &       -0.951     \\\\\n",
       "\\textbf{ar.L2}  &       0.0315  &        0.030     &     1.044  &         0.296        &       -0.028    &        0.091     \\\\\n",
       "\\textbf{ar.L3}  &       0.0219  &        0.022     &     0.976  &         0.329        &       -0.022    &        0.066     \\\\\n",
       "\\textbf{ma.L1}  &      -0.9975  &        0.050     &   -19.828  &         0.000        &       -1.096    &       -0.899     \\\\\n",
       "\\textbf{ma.L2}  &      -0.9998  &        0.099     &   -10.055  &         0.000        &       -1.195    &       -0.805     \\\\\n",
       "\\textbf{ma.L3}  &       0.9974  &        0.050     &    20.015  &         0.000        &        0.900    &        1.095     \\\\\n",
       "\\textbf{sigma2} &       9.0006  &        0.437     &    20.598  &         0.000        &        8.144    &        9.857     \\\\\n",
       "\\bottomrule\n",
       "\\end{tabular}\n",
       "\\begin{tabular}{lclc}\n",
       "\\textbf{Ljung-Box (L1) (Q):}     & 0.00 & \\textbf{  Jarque-Bera (JB):  } & 3377.75  \\\\\n",
       "\\textbf{Prob(Q):}                & 0.99 & \\textbf{  Prob(JB):          } &   0.00   \\\\\n",
       "\\textbf{Heteroskedasticity (H):} & 2.36 & \\textbf{  Skew:              } &   0.05   \\\\\n",
       "\\textbf{Prob(H) (two-sided):}    & 0.00 & \\textbf{  Kurtosis:          } &  11.04   \\\\\n",
       "\\bottomrule\n",
       "\\end{tabular}\n",
       "%\\caption{SARIMAX Results}\n",
       "\\end{center}\n",
       "\n",
       "Warnings: \\newline\n",
       " [1] Covariance matrix calculated using the outer product of gradients (complex-step)."
      ],
      "text/plain": [
       "<class 'statsmodels.iolib.summary.Summary'>\n",
       "\"\"\"\n",
       "                               SARIMAX Results                                \n",
       "==============================================================================\n",
       "Dep. Variable:                  Close   No. Observations:                 1256\n",
       "Model:                 ARIMA(3, 3, 3)   Log Likelihood               -3165.060\n",
       "Date:                Wed, 10 Sep 2025   AIC                           6344.121\n",
       "Time:                        09:18:43   BIC                           6380.054\n",
       "Sample:                             0   HQIC                          6357.628\n",
       "                               - 1256                                         \n",
       "Covariance Type:                  opg                                         \n",
       "==============================================================================\n",
       "                 coef    std err          z      P>|z|      [0.025      0.975]\n",
       "------------------------------------------------------------------------------\n",
       "ar.L1         -0.9890      0.019    -50.853      0.000      -1.027      -0.951\n",
       "ar.L2          0.0315      0.030      1.044      0.296      -0.028       0.091\n",
       "ar.L3          0.0219      0.022      0.976      0.329      -0.022       0.066\n",
       "ma.L1         -0.9975      0.050    -19.828      0.000      -1.096      -0.899\n",
       "ma.L2         -0.9998      0.099    -10.055      0.000      -1.195      -0.805\n",
       "ma.L3          0.9974      0.050     20.015      0.000       0.900       1.095\n",
       "sigma2         9.0006      0.437     20.598      0.000       8.144       9.857\n",
       "===================================================================================\n",
       "Ljung-Box (L1) (Q):                   0.00   Jarque-Bera (JB):              3377.75\n",
       "Prob(Q):                              0.99   Prob(JB):                         0.00\n",
       "Heteroskedasticity (H):               2.36   Skew:                             0.05\n",
       "Prob(H) (two-sided):                  0.00   Kurtosis:                        11.04\n",
       "===================================================================================\n",
       "\n",
       "Warnings:\n",
       "[1] Covariance matrix calculated using the outer product of gradients (complex-step).\n",
       "\"\"\""
      ]
     },
     "execution_count": 80,
     "metadata": {},
     "output_type": "execute_result"
    }
   ],
   "source": [
    "from statsmodels.tsa.arima.model import ARIMA\n",
    "# Training the model with best order (3,2,3)\n",
    "modell = ARIMA(train, order=(3,2,3))\n",
    "modell_fit = model.fit()\n",
    "\n",
    "# Summary of the model\n",
    "modell_fit.summary()"
   ]
  },
  {
   "cell_type": "markdown",
   "id": "bf59a924",
   "metadata": {
    "id": "bf59a924"
   },
   "source": [
    "##### Evaluation"
   ]
  },
  {
   "cell_type": "code",
   "execution_count": 81,
   "id": "ea77c0ad",
   "metadata": {
    "colab": {
     "base_uri": "https://localhost:8080/"
    },
    "executionInfo": {
     "elapsed": 110,
     "status": "ok",
     "timestamp": 1757495934119,
     "user": {
      "displayName": "Richard Jetevu",
      "userId": "03788574732977489479"
     },
     "user_tz": -60
    },
    "id": "ea77c0ad",
    "outputId": "3a73d789-dd6c-4b72-e831-bc863ff5bb4d"
   },
   "outputs": [
    {
     "name": "stdout",
     "output_type": "stream",
     "text": [
      "Date\n",
      "2024-05-01 00:00:00-04:00    169.258448\n",
      "2024-05-02 00:00:00-04:00    168.157432\n",
      "2024-05-03 00:00:00-04:00    171.902115\n",
      "2024-05-06 00:00:00-04:00    182.441241\n",
      "2024-05-07 00:00:00-04:00    180.727543\n",
      "                                ...    \n",
      "2025-04-28 00:00:00-04:00    209.019924\n",
      "2025-04-29 00:00:00-04:00    209.773290\n",
      "2025-04-30 00:00:00-04:00    210.884287\n",
      "2025-05-01 00:00:00-04:00    212.137704\n",
      "2025-05-02 00:00:00-04:00    212.997310\n",
      "Name: predicted_mean, Length: 252, dtype: float64\n"
     ]
    }
   ],
   "source": [
    "# Making Predictions for the test set\n",
    "start = len(train)\n",
    "end = len(train) + len(test) - 1\n",
    "\n",
    "\n",
    "# Using the fitted model\n",
    "pred = modell_fit.predict(start=start, end=end, typ='levels')\n",
    "# Align indexes\n",
    "pred.index = apple_data['Close'].index[start:end+1]\n",
    "print(pred)"
   ]
  },
  {
   "cell_type": "code",
   "execution_count": 82,
   "id": "a743e793",
   "metadata": {
    "colab": {
     "base_uri": "https://localhost:8080/",
     "height": 507
    },
    "executionInfo": {
     "elapsed": 372,
     "status": "ok",
     "timestamp": 1757495951821,
     "user": {
      "displayName": "Richard Jetevu",
      "userId": "03788574732977489479"
     },
     "user_tz": -60
    },
    "id": "a743e793",
    "outputId": "0ce29653-eab5-4435-e5c2-271c21efe471"
   },
   "outputs": [
    {
     "data": {
      "image/png": "[encoded data removed]",
      "text/plain": [
       "<Figure size 1000x500 with 1 Axes>"
      ]
     },
     "metadata": {},
     "output_type": "display_data"
    }
   ],
   "source": [
    "# Plotting Prediction to visualize comparison\n",
    "plt.figure(figsize=(10,5))\n",
    "\n",
    "# Plot actual vs predicted prices\n",
    "plt.plot(test, label='Actual', color='blue')\n",
    "plt.plot(pred, label='Predicted', color='red')\n",
    "plt.title('Actual vs Predicted Apple Stock Prices (1 Year)')\n",
    "plt.xlabel('Date')\n",
    "plt.ylabel('Price (USD)')\n",
    "plt.legend()\n",
    "plt.show()\n",
    "plt.show()"
   ]
  },
  {
   "cell_type": "code",
   "execution_count": 83,
   "id": "K3XvZ0S1Cf6e",
   "metadata": {
    "colab": {
     "base_uri": "https://localhost:8080/"
    },
    "executionInfo": {
     "elapsed": 185,
     "status": "ok",
     "timestamp": 1757495961162,
     "user": {
      "displayName": "Richard Jetevu",
      "userId": "03788574732977489479"
     },
     "user_tz": -60
    },
    "id": "K3XvZ0S1Cf6e",
    "outputId": "42a4b819-9f06-4493-9109-0db2e25cde91"
   },
   "outputs": [
    {
     "data": {
      "text/plain": [
       "np.float64(221.04)"
      ]
     },
     "execution_count": 83,
     "metadata": {},
     "output_type": "execute_result"
    }
   ],
   "source": [
    "round(np.mean(test), 2)"
   ]
  },
  {
   "cell_type": "code",
   "execution_count": 84,
   "id": "79509049",
   "metadata": {
    "colab": {
     "base_uri": "https://localhost:8080/"
    },
    "executionInfo": {
     "elapsed": 49,
     "status": "ok",
     "timestamp": 1757495961474,
     "user": {
      "displayName": "Richard Jetevu",
      "userId": "03788574732977489479"
     },
     "user_tz": -60
    },
    "id": "79509049",
    "outputId": "1a58a5d7-b65d-4f4e-a0d8-4c20a0394675"
   },
   "outputs": [
    {
     "name": "stdout",
     "output_type": "stream",
     "text": [
      "RMSE: 4.2444591976576325\n",
      "MAE: 2.814887555750052\n"
     ]
    }
   ],
   "source": [
    "from sklearn.metrics import mean_squared_error, mean_absolute_error\n",
    "from math import sqrt\n",
    "\n",
    "# Root mean squared error\n",
    "rmse = sqrt(mean_squared_error(test, pred))\n",
    "print(\"RMSE:\", rmse)\n",
    "\n",
    "# Mean absolute error\n",
    "mae = mean_absolute_error(test, pred)\n",
    "print(\"MAE:\", mae)"
   ]
  },
  {
   "cell_type": "code",
   "execution_count": 85,
   "id": "d-8imPae84Ss",
   "metadata": {
    "executionInfo": {
     "elapsed": 46,
     "status": "ok",
     "timestamp": 1757495963080,
     "user": {
      "displayName": "Richard Jetevu",
      "userId": "03788574732977489479"
     },
     "user_tz": -60
    },
    "id": "d-8imPae84Ss"
   },
   "outputs": [],
   "source": [
    "import numpy as np"
   ]
  },
  {
   "cell_type": "code",
   "execution_count": 86,
   "id": "I4tVswQs8HWc",
   "metadata": {
    "colab": {
     "base_uri": "https://localhost:8080/"
    },
    "executionInfo": {
     "elapsed": 54,
     "status": "ok",
     "timestamp": 1757495964021,
     "user": {
      "displayName": "Richard Jetevu",
      "userId": "03788574732977489479"
     },
     "user_tz": -60
    },
    "id": "I4tVswQs8HWc",
    "outputId": "83712f14-e382-45ad-d676-124106e83e75"
   },
   "outputs": [
    {
     "name": "stdout",
     "output_type": "stream",
     "text": [
      "MAE: 2.8149\n",
      "RMSE: 4.2445\n",
      "MAPE: 1.30%\n",
      "Accuracy: 98.70%\n"
     ]
    }
   ],
   "source": [
    "# Accuracy Check\n",
    "mape = np.mean(np.abs(test - pred) / test) * 100\n",
    "accuracy = 100 - mape\n",
    "print(f\"MAE: {mae:.4f}\")\n",
    "print(f\"RMSE: {rmse:.4f}\")\n",
    "print(f\"MAPE: {mape:.2f}%\")\n",
    "print(f\"Accuracy: {accuracy:.2f}%\")"
   ]
  },
  {
   "cell_type": "markdown",
   "id": "eed81ab8",
   "metadata": {
    "id": "eed81ab8"
   },
   "source": [
    "##### Future Predictions"
   ]
  },
  {
   "cell_type": "code",
   "execution_count": 90,
   "id": "NnX76Ypmyxlq",
   "metadata": {
    "executionInfo": {
     "elapsed": 39,
     "status": "ok",
     "timestamp": 1757496264754,
     "user": {
      "displayName": "Richard Jetevu",
      "userId": "03788574732977489479"
     },
     "user_tz": -60
    },
    "id": "NnX76Ypmyxlq"
   },
   "outputs": [],
   "source": [
    "# Forecast for 40 future business days (~3 months trading days)\n",
    "future_predd = modell_fit.forecast(steps=60).rename(\"ARIMA Predictions\")\n",
    "\n",
    "# Generate matching business-day index starting after 2025-05-05\n",
    "index_future_dates = pd.date_range(\n",
    "    start=\"2025-05-06\", periods=len(future_predd), freq=\"B\"\n",
    ")\n",
    "\n",
    "# Assign new index\n",
    "future_predd.index = index_future_dates"
   ]
  },
  {
   "cell_type": "code",
   "execution_count": 91,
   "id": "-QjheKEHyuDR",
   "metadata": {
    "colab": {
     "base_uri": "https://localhost:8080/",
     "height": 241
    },
    "executionInfo": {
     "elapsed": 11,
     "status": "ok",
     "timestamp": 1757496267130,
     "user": {
      "displayName": "Richard Jetevu",
      "userId": "03788574732977489479"
     },
     "user_tz": -60
    },
    "id": "-QjheKEHyuDR",
    "outputId": "cfda641a-059f-49bf-c970-44855949aa04"
   },
   "outputs": [
    {
     "data": {
      "text/html": [
       "<div>\n",
       "<style scoped>\n",
       "    .dataframe tbody tr th:only-of-type {\n",
       "        vertical-align: middle;\n",
       "    }\n",
       "\n",
       "    .dataframe tbody tr th {\n",
       "        vertical-align: top;\n",
       "    }\n",
       "\n",
       "    .dataframe thead th {\n",
       "        text-align: right;\n",
       "    }\n",
       "</style>\n",
       "<table border=\"1\" class=\"dataframe\">\n",
       "  <thead>\n",
       "    <tr style=\"text-align: right;\">\n",
       "      <th></th>\n",
       "      <th>ARIMA Predictions</th>\n",
       "    </tr>\n",
       "  </thead>\n",
       "  <tbody>\n",
       "    <tr>\n",
       "      <th>2025-05-06</th>\n",
       "      <td>204.877680</td>\n",
       "    </tr>\n",
       "    <tr>\n",
       "      <th>2025-05-07</th>\n",
       "      <td>204.848079</td>\n",
       "    </tr>\n",
       "    <tr>\n",
       "      <th>2025-05-08</th>\n",
       "      <td>204.931779</td>\n",
       "    </tr>\n",
       "    <tr>\n",
       "      <th>2025-05-09</th>\n",
       "      <td>205.072326</td>\n",
       "    </tr>\n",
       "    <tr>\n",
       "      <th>2025-05-12</th>\n",
       "      <td>205.155027</td>\n",
       "    </tr>\n",
       "  </tbody>\n",
       "</table>\n",
       "</div><br><label><b>dtype:</b> float64</label>"
      ],
      "text/plain": [
       "2025-05-06    204.877680\n",
       "2025-05-07    204.848079\n",
       "2025-05-08    204.931779\n",
       "2025-05-09    205.072326\n",
       "2025-05-12    205.155027\n",
       "Freq: B, Name: ARIMA Predictions, dtype: float64"
      ]
     },
     "execution_count": 91,
     "metadata": {},
     "output_type": "execute_result"
    }
   ],
   "source": [
    "future_predd.head()"
   ]
  },
  {
   "cell_type": "code",
   "execution_count": 92,
   "id": "bAYRrMSq4nud",
   "metadata": {
    "colab": {
     "base_uri": "https://localhost:8080/",
     "height": 241
    },
    "executionInfo": {
     "elapsed": 51,
     "status": "ok",
     "timestamp": 1757496269492,
     "user": {
      "displayName": "Richard Jetevu",
      "userId": "03788574732977489479"
     },
     "user_tz": -60
    },
    "id": "bAYRrMSq4nud",
    "outputId": "0d879d79-907d-4258-a0b7-ef7c46c87156"
   },
   "outputs": [
    {
     "data": {
      "text/html": [
       "<div>\n",
       "<style scoped>\n",
       "    .dataframe tbody tr th:only-of-type {\n",
       "        vertical-align: middle;\n",
       "    }\n",
       "\n",
       "    .dataframe tbody tr th {\n",
       "        vertical-align: top;\n",
       "    }\n",
       "\n",
       "    .dataframe thead th {\n",
       "        text-align: right;\n",
       "    }\n",
       "</style>\n",
       "<table border=\"1\" class=\"dataframe\">\n",
       "  <thead>\n",
       "    <tr style=\"text-align: right;\">\n",
       "      <th></th>\n",
       "      <th>ARIMA Predictions</th>\n",
       "    </tr>\n",
       "  </thead>\n",
       "  <tbody>\n",
       "    <tr>\n",
       "      <th>2025-07-22</th>\n",
       "      <td>208.251123</td>\n",
       "    </tr>\n",
       "    <tr>\n",
       "      <th>2025-07-23</th>\n",
       "      <td>208.231185</td>\n",
       "    </tr>\n",
       "    <tr>\n",
       "      <th>2025-07-24</th>\n",
       "      <td>208.264425</td>\n",
       "    </tr>\n",
       "    <tr>\n",
       "      <th>2025-07-25</th>\n",
       "      <td>208.240532</td>\n",
       "    </tr>\n",
       "    <tr>\n",
       "      <th>2025-07-28</th>\n",
       "      <td>208.269655</td>\n",
       "    </tr>\n",
       "  </tbody>\n",
       "</table>\n",
       "</div><br><label><b>dtype:</b> float64</label>"
      ],
      "text/plain": [
       "2025-07-22    208.251123\n",
       "2025-07-23    208.231185\n",
       "2025-07-24    208.264425\n",
       "2025-07-25    208.240532\n",
       "2025-07-28    208.269655\n",
       "Freq: B, Name: ARIMA Predictions, dtype: float64"
      ]
     },
     "execution_count": 92,
     "metadata": {},
     "output_type": "execute_result"
    }
   ],
   "source": [
    "future_predd.tail()"
   ]
  },
  {
   "cell_type": "code",
   "execution_count": 93,
   "id": "xfAoeUYY6gZo",
   "metadata": {
    "colab": {
     "base_uri": "https://localhost:8080/",
     "height": 440
    },
    "executionInfo": {
     "elapsed": 300,
     "status": "ok",
     "timestamp": 1757496278573,
     "user": {
      "displayName": "Richard Jetevu",
      "userId": "03788574732977489479"
     },
     "user_tz": -60
    },
    "id": "xfAoeUYY6gZo",
    "outputId": "31cde0bb-004d-4651-b0ae-6023dc0da4ff"
   },
   "outputs": [
    {
     "data": {
      "image/png": "[encoded data removed]",
      "text/plain": [
       "<Figure size 1200x600 with 1 Axes>"
      ]
     },
     "metadata": {},
     "output_type": "display_data"
    }
   ],
   "source": [
    "plt.figure(figsize=(12,6))\n",
    "\n",
    "\n",
    "# Plot future predictions\n",
    "plt.plot(future_predd, label='Future Predictions (Next 3 Months)', color='red')\n",
    "\n",
    "\n",
    "# Title and labels\n",
    "plt.title(\"Apple Stock Price Forecast (ARIMA)\")\n",
    "plt.xlabel(\"Date\")\n",
    "plt.ylabel(\"Price (USD)\")\n",
    "plt.legend()\n",
    "\n",
    "plt.show()"
   ]
  },
  {
   "cell_type": "markdown",
   "id": "dueJn0QIIB8o",
   "metadata": {
    "id": "dueJn0QIIB8o"
   },
   "source": [
    "###### Saving Model"
   ]
  },
  {
   "cell_type": "code",
   "execution_count": 98,
   "id": "AlyQ6PIktL8b",
   "metadata": {
    "colab": {
     "base_uri": "https://localhost:8080/"
    },
    "executionInfo": {
     "elapsed": 91,
     "status": "ok",
     "timestamp": 1757499577880,
     "user": {
      "displayName": "Richard Jetevu",
      "userId": "03788574732977489479"
     },
     "user_tz": -60
    },
    "id": "AlyQ6PIktL8b",
    "outputId": "0e88595e-4f3a-4b80-bb16-3ec2be11b3b9"
   },
   "outputs": [
    {
     "name": "stdout",
     "output_type": "stream",
     "text": [
      "2025-05-06    204.877680\n",
      "2025-05-07    204.848079\n",
      "2025-05-08    204.931779\n",
      "2025-05-09    205.072326\n",
      "2025-05-12    205.155027\n",
      "2025-05-13    205.295299\n",
      "2025-05-14    205.374152\n",
      "2025-05-15    205.510386\n",
      "2025-05-16    205.585295\n",
      "2025-05-19    205.717408\n",
      "Freq: B, Name: predicted_mean, dtype: float64\n"
     ]
    }
   ],
   "source": [
    "import joblib\n",
    "\n",
    "# Save the fitted ARIMA model\n",
    "joblib.dump(modell_fit, \"arima_apple_model.pkl\")\n",
    "\n",
    "# Later, load the saved model\n",
    "loaded_model = joblib.load(\"arima_apple_model.pkl\")\n",
    "\n",
    "# Example: make predictions with loaded model\n",
    "future_forecast = loaded_model.forecast(steps=10)\n",
    "future_forecast.index = pd.date_range(start=\"2025-05-06\", periods=len(future_forecast), freq=\"B\")\n",
    "print(future_forecast)"
   ]
  },
  {
   "cell_type": "markdown",
   "id": "c1960186",
   "metadata": {},
   "source": [
    "##### 🔍 Insights\n",
    "\n",
    " 1. **Stationarity Check**\n",
    "   - The Augmented Dickey-Fuller (ADF) test returned:\n",
    "     -  ADF Statistic: **-2.098**\n",
    "     - p-value: **0.245**\n",
    "   - Since p-value > 0.05, the series is **non-stationary** and required differencing.\n",
    "\n",
    "2. **Best Model Selection**\n",
    "   - After testing multiple parameter combinations, the best ARIMA order was found to be:\n",
    "     - **ARIMA(3,2,3)**\n",
    "     - Best AIC: **6312.51**\n",
    "   - This indicates the model balances complexity and fit well.\n",
    "\n",
    "3. **Model Evaluation**\n",
    "   - On the test dataset, the model achieved:\n",
    "     - **MAE:** 2.8149  \n",
    "     - **RMSE:** 4.2445  \n",
    "     - **MAPE:** 1.30%  \n",
    "     - **Accuracy:** 98.70%  \n",
    "   - Interpretation: The model was able to closely follow actual stock price movements, with high accuracy.\n",
    "\n",
    "4. **Prediction Performance**\n",
    "   - The **Actual vs Predicted plot** shows strong alignment between real stock prices and model predictions, confirming reliability for short-term forecasts.\n",
    "\n",
    "5. **Future Forecast**\n",
    "   - The model forecasted **60 business days (~3 months)** ahead from 2025-05-06.  \n",
    "   - First 5 predicted values:\n",
    "     ```\n",
    "     2025-05-06    204.88\n",
    "     2025-05-07    204.85\n",
    "     2025-05-08    204.93\n",
    "     2025-05-09    205.07\n",
    "     2025-05-12    205.16\n",
    "     ```\n",
    "   - Last 5 predicted values:\n",
    "     ```\n",
    "     2025-07-22    208.25\n",
    "     2025-07-23    208.23\n",
    "     2025-07-24    208.26\n",
    "     2025-07-25    208.24\n",
    "     2025-07-28    208.27\n",
    "     ```\n",
    "\n",
    "6. **Key Takeaways**\n",
    "   - Apple stock prices follow a **non-stationary upward trend**.  \n",
    "   - ARIMA(3,2,3) provided a solid fit and captured both trend and short-term fluctuations.  \n",
    "   - Model evaluation metrics indicate **high predictive accuracy**.  \n",
    "   - Future predictions suggest a **gradual upward movement** with minor fluctuations, consistent with recent trends.  \n",
    "   - ⚠️ **Disclaimer**: This forecast is for educational purposes only and should not be considered financial advice."
   ]
  },
  {
   "cell_type": "markdown",
   "id": "582ab97e",
   "metadata": {},
   "source": []
  }
 ],
 "metadata": {
  "colab": {
   "provenance": [],
   "toc_visible": true
  },
  "kernelspec": {
   "display_name": ".venv",
   "language": "python",
   "name": "python3"
  },
  "language_info": {
   "codemirror_mode": {
    "name": "ipython",
    "version": 3
   },
   "file_extension": ".py",
   "mimetype": "text/x-python",
   "name": "python",
   "nbconvert_exporter": "python",
   "pygments_lexer": "ipython3",
   "version": "3.11.9"
  }
 },
 "nbformat": 4,
 "nbformat_minor": 5
}
